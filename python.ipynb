{
 "cells": [
  {
   "cell_type": "code",
   "execution_count": 12,
   "metadata": {},
   "outputs": [],
   "source": [
    "from genai import ExecutionTimer"
   ]
  },
  {
   "cell_type": "code",
   "execution_count": 17,
   "metadata": {},
   "outputs": [
    {
     "name": "stdout",
     "output_type": "stream",
     "text": [
      "square_numbers() took 0.0097 ms\n"
     ]
    },
    {
     "data": {
      "text/plain": [
       "[0, 1, 4, 9, 16, 25, 36, 49, 64, 81]"
      ]
     },
     "execution_count": 17,
     "metadata": {},
     "output_type": "execute_result"
    }
   ],
   "source": [
    "@ExecutionTimer\n",
    "def square_numbers(numbers):\n",
    "    return [number ** 2 for number in numbers]\n",
    "\n",
    "\n",
    "square_numbers(list(range(10)))"
   ]
  },
  {
   "cell_type": "markdown",
   "metadata": {},
   "source": [
    "### How can we create python package for public users?\n",
    "https://www.turing.com/kb/how-to-create-pypi-packages"
   ]
  },
  {
   "cell_type": "code",
   "execution_count": 18,
   "metadata": {},
   "outputs": [
    {
     "name": "stdout",
     "output_type": "stream",
     "text": [
      "0800\n"
     ]
    }
   ],
   "source": [
    "from xml.etree.ElementTree import PI\n",
    "\n",
    "\n",
    "class Piaic():\n",
    "    def __init__(self) -> None:\n",
    "        #self.name                             public\n",
    "        self.piaic_helpline : str = \"0800\" #\n",
    "        #self._name                             protected\n",
    "        self._total_expense : int = 6000000 #\n",
    "        # __ = dundder\n",
    "        #self.__name                             private\n",
    "        self.__test_announcement : str = \"5 Nov 2023\"\n",
    "\n",
    "\n",
    "newPiaic : Piaic = Piaic()\n",
    "\n",
    "print(newPiaic.piaic_helpline)\n",
    "\n",
    "\n"
   ]
  },
  {
   "cell_type": "code",
   "execution_count": 15,
   "metadata": {},
   "outputs": [
    {
     "name": "stdout",
     "output_type": "stream",
     "text": [
      "0300-1234567\n"
     ]
    }
   ],
   "source": [
    "newPiaic.piaic_helpline = '0300-1234567'\n",
    "print(newPiaic.piaic_helpline)"
   ]
  },
  {
   "cell_type": "code",
   "execution_count": 16,
   "metadata": {},
   "outputs": [
    {
     "ename": "AttributeError",
     "evalue": "'Piaic' object has no attribute 'test_announcement'",
     "output_type": "error",
     "traceback": [
      "\u001b[1;31m---------------------------------------------------------------------------\u001b[0m",
      "\u001b[1;31mAttributeError\u001b[0m                            Traceback (most recent call last)",
      "Cell \u001b[1;32mIn[16], line 1\u001b[0m\n\u001b[1;32m----> 1\u001b[0m \u001b[43mnewPiaic\u001b[49m\u001b[38;5;241;43m.\u001b[39;49m\u001b[43mtest_announcement\u001b[49m\n",
      "\u001b[1;31mAttributeError\u001b[0m: 'Piaic' object has no attribute 'test_announcement'"
     ]
    }
   ],
   "source": [
    "newPiaic.test_announcement"
   ]
  },
  {
   "cell_type": "code",
   "execution_count": 19,
   "metadata": {},
   "outputs": [
    {
     "ename": "AttributeError",
     "evalue": "'Piaic' object has no attribute '__test_announcement'",
     "output_type": "error",
     "traceback": [
      "\u001b[1;31m---------------------------------------------------------------------------\u001b[0m",
      "\u001b[1;31mAttributeError\u001b[0m                            Traceback (most recent call last)",
      "Cell \u001b[1;32mIn[19], line 1\u001b[0m\n\u001b[1;32m----> 1\u001b[0m \u001b[43mnewPiaic\u001b[49m\u001b[38;5;241;43m.\u001b[39;49m\u001b[43m__test_announcement\u001b[49m\n",
      "\u001b[1;31mAttributeError\u001b[0m: 'Piaic' object has no attribute '__test_announcement'"
     ]
    }
   ],
   "source": [
    "newPiaic.__test_announcement"
   ]
  },
  {
   "cell_type": "code",
   "execution_count": 20,
   "metadata": {},
   "outputs": [
    {
     "data": {
      "text/plain": [
       "'5 Nov 2023'"
      ]
     },
     "execution_count": 20,
     "metadata": {},
     "output_type": "execute_result"
    }
   ],
   "source": [
    "newPiaic._Piaic__test_announcement"
   ]
  },
  {
   "cell_type": "code",
   "execution_count": 21,
   "metadata": {},
   "outputs": [],
   "source": [
    "class StudentLogin():\n",
    "    def __init__(self) -> None:\n",
    "        self.__username : str = \"Admin\" # private\n",
    "        self.__password : str = \"Admin\" # private\n",
    "\n",
    "\n",
    "    def __dbconnectivity(self, user:str, passwrod:str):\n",
    "        print(\"Successfully connected\")\n",
    "        if user == self.__username and passwrod==self.__password:\n",
    "            return \"Valid user\"\n",
    "        else:\n",
    "            return \"Invalid user\"\n",
    "        \n",
    "    def update_password(self,password:str):\n",
    "        self.__password = password\n",
    "\n",
    "    def student_login(self, user: str , pass1: str):\n",
    "        message :str = self.__dbconnectivity(user,pass1)\n",
    "        print(message)\n",
    "\n",
    "    def display_information(self):\n",
    "        print(f\"Hello Dear, {self.__username} and password {self.__password}\")\n",
    "\n",
    "\n",
    "newStudent : StudentLogin = StudentLogin()\n"
   ]
  },
  {
   "cell_type": "code",
   "execution_count": 22,
   "metadata": {},
   "outputs": [
    {
     "ename": "AttributeError",
     "evalue": "'StudentLogin' object has no attribute '__password'",
     "output_type": "error",
     "traceback": [
      "\u001b[1;31m---------------------------------------------------------------------------\u001b[0m",
      "\u001b[1;31mAttributeError\u001b[0m                            Traceback (most recent call last)",
      "Cell \u001b[1;32mIn[22], line 1\u001b[0m\n\u001b[1;32m----> 1\u001b[0m \u001b[43mnewStudent\u001b[49m\u001b[38;5;241;43m.\u001b[39;49m\u001b[43m__password\u001b[49m\n",
      "\u001b[1;31mAttributeError\u001b[0m: 'StudentLogin' object has no attribute '__password'"
     ]
    }
   ],
   "source": [
    "newStudent.__password"
   ]
  },
  {
   "cell_type": "code",
   "execution_count": 23,
   "metadata": {},
   "outputs": [
    {
     "name": "stdout",
     "output_type": "stream",
     "text": [
      "Hello Dear, Admin and password Admin\n"
     ]
    }
   ],
   "source": [
    "newStudent.display_information()"
   ]
  },
  {
   "cell_type": "code",
   "execution_count": 24,
   "metadata": {},
   "outputs": [
    {
     "name": "stdout",
     "output_type": "stream",
     "text": [
      "Successfully connected\n",
      "Invalid user\n"
     ]
    }
   ],
   "source": [
    "newStudent.student_login(\"qasim\",'qasim123')"
   ]
  },
  {
   "cell_type": "code",
   "execution_count": 25,
   "metadata": {},
   "outputs": [
    {
     "name": "stdout",
     "output_type": "stream",
     "text": [
      "Successfully connected\n",
      "Valid user\n"
     ]
    }
   ],
   "source": [
    "newStudent.student_login(\"Admin\",'Admin')"
   ]
  },
  {
   "cell_type": "code",
   "execution_count": 26,
   "metadata": {},
   "outputs": [],
   "source": [
    "newStudent.update_password(\"qasim123\")"
   ]
  },
  {
   "cell_type": "code",
   "execution_count": 27,
   "metadata": {},
   "outputs": [
    {
     "name": "stdout",
     "output_type": "stream",
     "text": [
      "Hello Dear, Admin and password qasim123\n"
     ]
    }
   ],
   "source": [
    "newStudent.display_information()"
   ]
  },
  {
   "cell_type": "markdown",
   "metadata": {},
   "source": [
    "# __str__ "
   ]
  },
  {
   "cell_type": "code",
   "execution_count": 28,
   "metadata": {},
   "outputs": [
    {
     "name": "stdout",
     "output_type": "stream",
     "text": [
      "<__main__.Teacher object at 0x0000024CD520A5D0>\n"
     ]
    }
   ],
   "source": [
    "class Teacher():\n",
    "    def __init__(self,name) -> None:\n",
    "        self.name : str = name\n",
    "\n",
    "newTeacher : Teacher = Teacher(\"sir zia\")\n",
    "\n",
    "print(newTeacher)\n",
    "\n"
   ]
  },
  {
   "cell_type": "code",
   "execution_count": 29,
   "metadata": {},
   "outputs": [
    {
     "name": "stdout",
     "output_type": "stream",
     "text": [
      "Teacher name is sir zia\n"
     ]
    }
   ],
   "source": [
    "class Teacher():\n",
    "    def __init__(self,name) -> None:\n",
    "        self.name : str = name\n",
    "\n",
    "    def __str__(self) -> str:\n",
    "        return f\"Teacher name is {self.name}\"\n",
    "\n",
    "newTeacher : Teacher = Teacher(\"sir zia\")\n",
    "\n",
    "print(newTeacher)\n",
    "\n"
   ]
  },
  {
   "cell_type": "markdown",
   "metadata": {},
   "source": [
    "## Abstract Class"
   ]
  },
  {
   "cell_type": "code",
   "execution_count": 30,
   "metadata": {},
   "outputs": [
    {
     "ename": "TypeError",
     "evalue": "Can't instantiate abstract class Animal without an implementation for abstract method '__init__'",
     "output_type": "error",
     "traceback": [
      "\u001b[1;31m---------------------------------------------------------------------------\u001b[0m",
      "\u001b[1;31mTypeError\u001b[0m                                 Traceback (most recent call last)",
      "Cell \u001b[1;32mIn[30], line 14\u001b[0m\n\u001b[0;32m      8\u001b[0m         \u001b[38;5;28msuper\u001b[39m()\u001b[38;5;241m.\u001b[39m\u001b[38;5;21m__init__\u001b[39m()\n\u001b[0;32m      9\u001b[0m         \u001b[38;5;28mself\u001b[39m\u001b[38;5;241m.\u001b[39mliving_thing : \u001b[38;5;28mbool\u001b[39m \u001b[38;5;241m=\u001b[39m \u001b[38;5;28;01mTrue\u001b[39;00m\n\u001b[1;32m---> 14\u001b[0m newAnimal : Animal \u001b[38;5;241m=\u001b[39m \u001b[43mAnimal\u001b[49m\u001b[43m(\u001b[49m\u001b[43m)\u001b[49m \n",
      "\u001b[1;31mTypeError\u001b[0m: Can't instantiate abstract class Animal without an implementation for abstract method '__init__'"
     ]
    }
   ],
   "source": [
    "from abc import ABC, abstractmethod\n",
    "\n",
    "from traitlets import Bool\n",
    "\n",
    "class Animal(ABC):\n",
    "    @abstractmethod\n",
    "    def __init__(self) -> None:\n",
    "        super().__init__()\n",
    "        self.living_thing : bool = True\n",
    "        \n",
    "\n",
    "\n",
    "\n",
    "newAnimal : Animal = Animal() \n"
   ]
  },
  {
   "cell_type": "code",
   "execution_count": 31,
   "metadata": {},
   "outputs": [
    {
     "ename": "TypeError",
     "evalue": "Can't instantiate abstract class Cat without an implementation for abstract method 'eat'",
     "output_type": "error",
     "traceback": [
      "\u001b[1;31m---------------------------------------------------------------------------\u001b[0m",
      "\u001b[1;31mTypeError\u001b[0m                                 Traceback (most recent call last)",
      "Cell \u001b[1;32mIn[31], line 23\u001b[0m\n\u001b[0;32m     16\u001b[0m     \u001b[38;5;28;01mdef\u001b[39;00m \u001b[38;5;21m__init__\u001b[39m(\u001b[38;5;28mself\u001b[39m) \u001b[38;5;241m-\u001b[39m\u001b[38;5;241m>\u001b[39m \u001b[38;5;28;01mNone\u001b[39;00m:\n\u001b[0;32m     17\u001b[0m         \u001b[38;5;28msuper\u001b[39m()\u001b[38;5;241m.\u001b[39m\u001b[38;5;21m__init__\u001b[39m()\n\u001b[1;32m---> 23\u001b[0m newAnimal : Cat \u001b[38;5;241m=\u001b[39m \u001b[43mCat\u001b[49m\u001b[43m(\u001b[49m\u001b[43m)\u001b[49m\n\u001b[0;32m     26\u001b[0m \u001b[38;5;28mprint\u001b[39m(newAnimal\u001b[38;5;241m.\u001b[39mliving_thing)\n",
      "\u001b[1;31mTypeError\u001b[0m: Can't instantiate abstract class Cat without an implementation for abstract method 'eat'"
     ]
    }
   ],
   "source": [
    "from abc import ABC, abstractmethod\n",
    "\n",
    "\n",
    "class Animal(ABC):\n",
    "    @abstractmethod\n",
    "    def __init__(self) -> None:\n",
    "        super().__init__()\n",
    "        self.living_thing : bool = True\n",
    "\n",
    "    @abstractmethod\n",
    "    def eat(self,food:str):\n",
    "        ...\n",
    "        \n",
    "\n",
    "class Cat(Animal):\n",
    "    def __init__(self) -> None:\n",
    "        super().__init__()\n",
    "\n",
    "    \n",
    "\n",
    "    \n",
    "\n",
    "newAnimal : Cat = Cat()\n",
    "\n",
    "\n",
    "print(newAnimal.living_thing)\n"
   ]
  },
  {
   "cell_type": "code",
   "execution_count": 32,
   "metadata": {},
   "outputs": [
    {
     "name": "stdout",
     "output_type": "stream",
     "text": [
      "True\n"
     ]
    }
   ],
   "source": [
    "from abc import ABC, abstractmethod\n",
    "\n",
    "\n",
    "class Animal(ABC):\n",
    "    @abstractmethod\n",
    "    def __init__(self) -> None:\n",
    "        super().__init__()\n",
    "        self.living_thing : bool = True\n",
    "\n",
    "    @abstractmethod\n",
    "    def eat(self,food:str):\n",
    "        ...\n",
    "        \n",
    "\n",
    "class Cat(Animal):\n",
    "    def __init__(self) -> None:\n",
    "        super().__init__()# parent\n",
    "\n",
    "    def eat(self, food: str):\n",
    "        return f\"Cat is eating {food}\"\n",
    "\n",
    "    \n",
    "\n",
    "    \n",
    "\n",
    "newAnimal : Cat = Cat()\n",
    "\n",
    "\n",
    "print(newAnimal.living_thing)\n"
   ]
  },
  {
   "cell_type": "code",
   "execution_count": 33,
   "metadata": {},
   "outputs": [
    {
     "ename": "AttributeError",
     "evalue": "'Cat' object has no attribute 'living_thing'",
     "output_type": "error",
     "traceback": [
      "\u001b[1;31m---------------------------------------------------------------------------\u001b[0m",
      "\u001b[1;31mAttributeError\u001b[0m                            Traceback (most recent call last)",
      "Cell \u001b[1;32mIn[33], line 25\u001b[0m\n\u001b[0;32m     16\u001b[0m         \u001b[38;5;28;01mreturn\u001b[39;00m \u001b[38;5;124mf\u001b[39m\u001b[38;5;124m\"\u001b[39m\u001b[38;5;124mCat is eating \u001b[39m\u001b[38;5;132;01m{\u001b[39;00mfood\u001b[38;5;132;01m}\u001b[39;00m\u001b[38;5;124m\"\u001b[39m\n\u001b[0;32m     22\u001b[0m newAnimal : Cat \u001b[38;5;241m=\u001b[39m Cat()\n\u001b[1;32m---> 25\u001b[0m \u001b[38;5;28mprint\u001b[39m(\u001b[43mnewAnimal\u001b[49m\u001b[38;5;241;43m.\u001b[39;49m\u001b[43mliving_thing\u001b[49m)\n",
      "\u001b[1;31mAttributeError\u001b[0m: 'Cat' object has no attribute 'living_thing'"
     ]
    }
   ],
   "source": [
    "from abc import ABC, abstractmethod\n",
    "\n",
    "\n",
    "class Animal(ABC):\n",
    "\n",
    "    @abstractmethod\n",
    "    def eat(self,food:str):\n",
    "        ...\n",
    "        \n",
    "\n",
    "class Cat(Animal):\n",
    "    def __init__(self) -> None:\n",
    "        super().__init__()# parent\n",
    "\n",
    "    def eat(self, food: str):\n",
    "        return f\"Cat is eating {food}\"\n",
    "\n",
    "    \n",
    "\n",
    "    \n",
    "\n",
    "newAnimal : Cat = Cat()\n",
    "\n",
    "\n",
    "print(newAnimal.living_thing)\n"
   ]
  },
  {
   "cell_type": "code",
   "execution_count": 34,
   "metadata": {},
   "outputs": [
    {
     "name": "stdout",
     "output_type": "stream",
     "text": [
      "Cat is eating Mouse\n"
     ]
    }
   ],
   "source": [
    "print(newAnimal.eat(\"Mouse\"))"
   ]
  },
  {
   "cell_type": "markdown",
   "metadata": {},
   "source": [
    "## Duck Typing\n",
    "https://ioflood.com/blog/duck-typing/"
   ]
  },
  {
   "cell_type": "code",
   "execution_count": 35,
   "metadata": {},
   "outputs": [
    {
     "name": "stdout",
     "output_type": "stream",
     "text": [
      "Quack!\n",
      "I'm Quacking Like a Duck!\n"
     ]
    }
   ],
   "source": [
    "class Duck:\n",
    "    def quack(self)->str:\n",
    "        return 'Quack!'\n",
    "\n",
    "class Person:\n",
    "    def quack(self)->str:\n",
    "        return 'I\\'m Quacking Like a Duck!'\n",
    "\n",
    "def in_the_forest(malard):\n",
    "    print(malard.quack())\n",
    "\n",
    "donald : Duck = Duck()\n",
    "john : Person = Person()\n",
    "in_the_forest(donald)\n",
    "in_the_forest(john)\n",
    "\n",
    "# Output:\n",
    "# 'Quack!'\n",
    "# 'I'm Quacking Like a Duck!'\n"
   ]
  },
  {
   "cell_type": "code",
   "execution_count": 36,
   "metadata": {},
   "outputs": [
    {
     "name": "stdout",
     "output_type": "stream",
     "text": [
      "Quack!\n",
      "I'm Quacking Like a Duck!\n"
     ]
    }
   ],
   "source": [
    "class Duck():\n",
    "    def quack(self)->str:\n",
    "        return 'Quack!'\n",
    "\n",
    "class Person():\n",
    "    def quack(self)->str:\n",
    "        return 'I\\'m Quacking Like a Duck!'\n",
    "\n",
    "def in_the_forest(malard):\n",
    "    print(malard.quack())\n",
    "\n",
    "donald : Duck = Duck()\n",
    "john : Person = Person()\n",
    "in_the_forest(donald)\n",
    "in_the_forest(john)\n",
    "\n",
    "# Output:\n",
    "# 'Quack!'\n",
    "# 'I'm Quacking Like a Duck!'\n"
   ]
  },
  {
   "cell_type": "code",
   "execution_count": 37,
   "metadata": {},
   "outputs": [
    {
     "data": {
      "text/plain": [
       "['__class__',\n",
       " '__delattr__',\n",
       " '__dict__',\n",
       " '__dir__',\n",
       " '__doc__',\n",
       " '__eq__',\n",
       " '__format__',\n",
       " '__ge__',\n",
       " '__getattribute__',\n",
       " '__getstate__',\n",
       " '__gt__',\n",
       " '__hash__',\n",
       " '__init__',\n",
       " '__init_subclass__',\n",
       " '__le__',\n",
       " '__lt__',\n",
       " '__module__',\n",
       " '__ne__',\n",
       " '__new__',\n",
       " '__reduce__',\n",
       " '__reduce_ex__',\n",
       " '__repr__',\n",
       " '__setattr__',\n",
       " '__sizeof__',\n",
       " '__str__',\n",
       " '__subclasshook__',\n",
       " '__weakref__']"
      ]
     },
     "execution_count": 37,
     "metadata": {},
     "output_type": "execute_result"
    }
   ],
   "source": [
    "class XYZ:\n",
    "    pass\n",
    "\n",
    "dir(XYZ)"
   ]
  }
 ],
 "metadata": {
  "kernelspec": {
   "display_name": "python12",
   "language": "python",
   "name": "python3"
  },
  "language_info": {
   "codemirror_mode": {
    "name": "ipython",
    "version": 3
   },
   "file_extension": ".py",
   "mimetype": "text/x-python",
   "name": "python",
   "nbconvert_exporter": "python",
   "pygments_lexer": "ipython3",
   "version": "3.12.0"
  },
  "orig_nbformat": 4
 },
 "nbformat": 4,
 "nbformat_minor": 2
}
